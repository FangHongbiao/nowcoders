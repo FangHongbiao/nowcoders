{
 "cells": [
  {
   "cell_type": "code",
   "execution_count": null,
   "metadata": {},
   "outputs": [],
   "source": [
    "import functools\n",
    "def func(x, y):\n",
    "    str_x = str(x)\n",
    "    str_y = str(y)\n",
    "    return -1 if int(str_x+str_y) > int(str_y+str_x) else  1\n",
    "def reversed_cmp(x, y):\n",
    "    if x > y:\n",
    "        return -1\n",
    "    if x < y:\n",
    "        return 1\n",
    "    return 0            \n",
    "def get_max(nums):\n",
    "    return sorted(nums, key=functools.cmp_to_key(func))\n",
    "\n",
    "num = int(input())\n",
    "inputs = map(int, input().strip().split(' '))\n",
    "ret = map(str,get_max(inputs))\n",
    "print(''.join(ret))"
   ]
  },
  {
   "cell_type": "code",
   "execution_count": null,
   "metadata": {},
   "outputs": [],
   "source": []
  },
  {
   "cell_type": "code",
   "execution_count": null,
   "metadata": {},
   "outputs": [],
   "source": []
  },
  {
   "cell_type": "code",
   "execution_count": null,
   "metadata": {},
   "outputs": [],
   "source": []
  },
  {
   "cell_type": "code",
   "execution_count": null,
   "metadata": {},
   "outputs": [],
   "source": []
  }
 ],
 "metadata": {
  "kernelspec": {
   "display_name": "Python 3",
   "language": "python",
   "name": "python3"
  },
  "language_info": {
   "codemirror_mode": {
    "name": "ipython",
    "version": 3
   },
   "file_extension": ".py",
   "mimetype": "text/x-python",
   "name": "python",
   "nbconvert_exporter": "python",
   "pygments_lexer": "ipython3",
   "version": "3.5.5"
  }
 },
 "nbformat": 4,
 "nbformat_minor": 2
}
