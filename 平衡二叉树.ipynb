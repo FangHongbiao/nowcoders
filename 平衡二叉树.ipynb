{
 "cells": [
  {
   "cell_type": "markdown",
   "metadata": {},
   "source": [
    "### 平衡二叉树\n",
    "输入一棵二叉树，判断该二叉树是否是平衡二叉树。"
   ]
  },
  {
   "cell_type": "code",
   "execution_count": 1,
   "metadata": {},
   "outputs": [],
   "source": [
    "# -*- coding:utf-8 -*-\n",
    "class TreeNode:\n",
    "    def __init__(self, x):\n",
    "        self.val = x\n",
    "        self.left = None\n",
    "        self.right = None\n",
    "class Solution:\n",
    "    def IsBalanced_Solution(self, pRoot):\n",
    "        # write code here\n",
    "        if pRoot == None:\n",
    "            return True\n",
    "        \n",
    "        left_depth = self.GetDepth(pRoot.left)\n",
    "        right_depth = self.GetDepth(pRoot.right) \n",
    "        if abs(left_depth-right_depth) <= 1:\n",
    "            return self.IsBalanced_Solution(pRoot.left) and self.IsBalanced_Solution(pRoot.right)\n",
    "        \n",
    "    def GetDepth(self, pRoot):\n",
    "        if pRoot == None: \n",
    "            return 0\n",
    "        return max(self.GetDepth(pRoot.left), self.GetDepth(pRoot.right)) + 1"
   ]
  },
  {
   "cell_type": "code",
   "execution_count": null,
   "metadata": {},
   "outputs": [],
   "source": []
  }
 ],
 "metadata": {
  "kernelspec": {
   "display_name": "Python 3",
   "language": "python",
   "name": "python3"
  },
  "language_info": {
   "codemirror_mode": {
    "name": "ipython",
    "version": 3
   },
   "file_extension": ".py",
   "mimetype": "text/x-python",
   "name": "python",
   "nbconvert_exporter": "python",
   "pygments_lexer": "ipython3",
   "version": "3.5.5"
  }
 },
 "nbformat": 4,
 "nbformat_minor": 2
}
