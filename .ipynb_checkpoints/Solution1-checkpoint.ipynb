{
 "cells": [
  {
   "cell_type": "markdown",
   "metadata": {},
   "source": [
    "### 月饼 (25)\n",
    "月饼是中国人在中秋佳节时吃的一种传统食品，不同地区有许多不同风味的月饼。现给定所有种类月饼的库存量、总售价、以及市场的最大需\n",
    "\n",
    "求量，请你计算可以获得的最大收益是多少。\n",
    "\n",
    "\n",
    "\n",
    "注意：销售时允许取出一部分库存。样例给出的情形是这样的：假如我们有3种月饼，其库存量分别为18、15、10万吨，总售价分别为75、\n",
    "\n",
    "72、45亿元。如果市场的最大需求量只有20万吨，那么我们最大收益策略应该是卖出全部15万吨第2种月饼、以及5万吨第3种月饼，获得\n",
    "\n",
    " 72 + 45/2 = 94.5（亿元）。"
   ]
  },
  {
   "cell_type": "code",
   "execution_count": 42,
   "metadata": {},
   "outputs": [
    {
     "name": "stdout",
     "output_type": "stream",
     "text": [
      "94.50\n"
     ]
    }
   ],
   "source": [
    "num, total = map(int, input().strip().split(' '))\n",
    "stores = map(int, input().strip().split(' '))\n",
    "prices = map(int, input().strip().split(' '))\n",
    "\n",
    "remain = total\n",
    "price_per_unit = [(price/store, store, price) if store!=0 else (100000, store, price) for (store, price) in zip(stores, prices)]\n",
    "\n",
    "price_per_unit\n",
    "\n",
    "price_per_unit = sorted(price_per_unit, reverse=True)\n",
    "\n",
    "sum_price = 0\n",
    "for item in price_per_unit:\n",
    "    print(item)\n",
    "    if remain - item[1] < 0:\n",
    "        sum_price += remain*item[0]\n",
    "        break\n",
    "    else:\n",
    "        sum_price += item[2]\n",
    "        remain -= item[1]\n",
    "\n",
    "print('%.2f' % sum_price)"
   ]
  },
  {
   "cell_type": "code",
   "execution_count": null,
   "metadata": {
    "collapsed": true
   },
   "outputs": [],
   "source": []
  }
 ],
 "metadata": {
  "kernelspec": {
   "display_name": "Python 3",
   "language": "python",
   "name": "python3"
  },
  "language_info": {
   "codemirror_mode": {
    "name": "ipython",
    "version": 3
   },
   "file_extension": ".py",
   "mimetype": "text/x-python",
   "name": "python",
   "nbconvert_exporter": "python",
   "pygments_lexer": "ipython3",
   "version": "3.5.5"
  }
 },
 "nbformat": 4,
 "nbformat_minor": 2
}
