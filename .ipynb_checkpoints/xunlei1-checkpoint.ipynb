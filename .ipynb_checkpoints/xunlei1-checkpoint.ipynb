{
 "cells": [
  {
   "cell_type": "code",
   "execution_count": 24,
   "metadata": {},
   "outputs": [
    {
     "name": "stdout",
     "output_type": "stream",
     "text": [
      "123456\n"
     ]
    }
   ],
   "source": [
    "num = int(input().strip())"
   ]
  },
  {
   "cell_type": "code",
   "execution_count": 25,
   "metadata": {},
   "outputs": [],
   "source": [
    "\n",
    "def inverse(num):\n",
    "    if num < 0:\n",
    "        return -1 * inverse(-num)\n",
    "    if num == 0:\n",
    "        return 0\n",
    "    result = []\n",
    "    while (num != 0):\n",
    "        result.append(num%10)\n",
    "        num //= 10\n",
    "    index = 0\n",
    "    for i in range(len(result)):\n",
    "        if result[i]!=0:\n",
    "            index = i\n",
    "            break\n",
    "    result = result[index:]\n",
    "    total = 0\n",
    "    for i in range(len(result)):\n",
    "        total += result[i]*pow(10, len(result) - i - 1)\n",
    "    return total"
   ]
  },
  {
   "cell_type": "code",
   "execution_count": 26,
   "metadata": {},
   "outputs": [
    {
     "data": {
      "text/plain": [
       "123456"
      ]
     },
     "execution_count": 26,
     "metadata": {},
     "output_type": "execute_result"
    }
   ],
   "source": [
    "inverse(num)"
   ]
  },
  {
   "cell_type": "code",
   "execution_count": null,
   "metadata": {},
   "outputs": [],
   "source": []
  },
  {
   "cell_type": "code",
   "execution_count": null,
   "metadata": {},
   "outputs": [],
   "source": []
  }
 ],
 "metadata": {
  "kernelspec": {
   "display_name": "Python 3",
   "language": "python",
   "name": "python3"
  }
 },
 "nbformat": 4,
 "nbformat_minor": 2
}
