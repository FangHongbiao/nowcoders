{
 "cells": [
  {
   "cell_type": "code",
   "execution_count": 83,
   "metadata": {},
   "outputs": [
    {
     "name": "stdout",
     "output_type": "stream",
     "text": [
      "6 8\n"
     ]
    }
   ],
   "source": [
    "n, m = map(int, input().strip().split(' '))"
   ]
  },
  {
   "cell_type": "code",
   "execution_count": 89,
   "metadata": {},
   "outputs": [
    {
     "name": "stdout",
     "output_type": "stream",
     "text": [
      "5\n",
      "4\n",
      "3\n",
      "2\n",
      "1\n",
      "4\n"
     ]
    }
   ],
   "source": [
    "data = [i+1 for i in range(n)]\n",
    "\n",
    "def get_num(data, cur, total):\n",
    "    if cur > len(data)-1 :\n",
    "        return 0\n",
    "    if  data[cur] == total:\n",
    "        return 1\n",
    "    return (get_num(data, cur+1, total-data[cur]) +  get_num(data, cur+1, total))\n",
    "\n",
    "table = [[0 for i in range(m+1)] for i in range(n+1)]\n",
    "def generate_dp_table():\n",
    "    table[n][n] = 1\n",
    "    for i in range(1,n)[::-1]:\n",
    "        for j in range(1,m+1):\n",
    "            if j-i >= 0 and j-i < m:\n",
    "                table[i][j] = table[i+1][j-i] + table[i+1][j]\n",
    "            else:\n",
    "                table[i][j] = table[i+1][j]\n",
    "            if i == j:\n",
    "                table[i][j] +=1\n",
    "\n",
    "generate_dp_table()\n",
    "\n",
    "\n",
    "print(table[1][m])\n",
    "      \n",
    "def dp_get_num(data, cur, total):\n",
    "    if total <= 0:\n",
    "        return 0\n",
    "    if table[cur][total] != -1:\n",
    "        return table[cur][total]\n",
    "    if cur > len(data)-1 :\n",
    "        table[cur][total] = 0\n",
    "        return 0\n",
    "    if  data[cur] == total:\n",
    "        table[cur][total] = 1\n",
    "        return 1\n",
    "    table[cur][total] = (get_num(data, cur+1, total-data[cur]) +  get_num(data, cur+1, total))\n",
    "    return table[cur][total]\n"
   ]
  },
  {
   "cell_type": "code",
   "execution_count": 46,
   "metadata": {},
   "outputs": [
    {
     "data": {
      "text/plain": [
       "4"
      ]
     },
     "execution_count": 46,
     "metadata": {},
     "output_type": "execute_result"
    }
   ],
   "source": [
    "dp_get_num(data, 1, 8)"
   ]
  },
  {
   "cell_type": "code",
   "execution_count": null,
   "metadata": {},
   "outputs": [],
   "source": []
  },
  {
   "cell_type": "code",
   "execution_count": null,
   "metadata": {},
   "outputs": [],
   "source": []
  }
 ],
 "metadata": {
  "kernelspec": {
   "display_name": "Python 3",
   "language": "python",
   "name": "python3"
  },
  "language_info": {
   "codemirror_mode": {
    "name": "ipython",
    "version": 3
   },
   "file_extension": ".py",
   "mimetype": "text/x-python",
   "name": "python",
   "nbconvert_exporter": "python",
   "pygments_lexer": "ipython3",
   "version": "3.5.5"
  }
 },
 "nbformat": 4,
 "nbformat_minor": 2
}
