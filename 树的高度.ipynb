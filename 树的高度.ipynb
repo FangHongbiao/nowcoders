{
 "cells": [
  {
   "cell_type": "code",
   "execution_count": 7,
   "metadata": {},
   "outputs": [
    {
     "name": "stdout",
     "output_type": "stream",
     "text": [
      "5\n",
      "0 1\n",
      "0 2\n",
      "1 3\n",
      "1 4\n"
     ]
    }
   ],
   "source": [
    "num = int(input())\n",
    "pair = []\n",
    "for i in range(num-1):\n",
    "    parent, child = map(int, input().strip().split(' '))\n",
    "    pair.append((parent, child))\n"
   ]
  },
  {
   "cell_type": "code",
   "execution_count": 18,
   "metadata": {},
   "outputs": [],
   "source": [
    "dict1 = {}\n",
    "for p, c in pair:\n",
    "    if p not in dict1:\n",
    "        dict1[p] = [c]\n",
    "        \n",
    "    else:\n",
    "        tmp = dict1[p]\n",
    "        tmp.append(c)\n",
    "        dict1[p] = tmp"
   ]
  },
  {
   "cell_type": "markdown",
   "metadata": {},
   "source": [
    "### AC代码"
   ]
  },
  {
   "cell_type": "code",
   "execution_count": 6,
   "metadata": {},
   "outputs": [
    {
     "data": {
      "text/plain": [
       "{0: [1]}"
      ]
     },
     "execution_count": 6,
     "metadata": {},
     "output_type": "execute_result"
    }
   ],
   "source": [
    "num = int(input())\n",
    "pair = []\n",
    "for i in range(num-1):\n",
    "    parent, child = map(int, input().strip().split(' '))\n",
    "    pair.append((parent, child))\n",
    "dict1 = {}\n",
    "for p, c in pair:\n",
    "    if p not in dict1:\n",
    "        dict1[p] = [c]\n",
    "    else:\n",
    "        tmp = dict1[p]\n",
    "        tmp.append(c)\n",
    "        dict1[p] = tmp\n",
    "\n",
    "\n",
    "def getHeight(node):\n",
    "    if node not in dict1:\n",
    "        return 1\n",
    "    else:\n",
    "        if len(dict1[node])==1:\n",
    "            return 1+getHeight(dict1[node][0])\n",
    "        else:\n",
    "            return 1+max(getHeight(dict1[node][0]),getHeight(dict1[node][1]))\n",
    "\n",
    "print(getHeight(0))"
   ]
  },
  {
   "cell_type": "code",
   "execution_count": null,
   "metadata": {},
   "outputs": [],
   "source": []
  }
 ],
 "metadata": {
  "kernelspec": {
   "display_name": "Python 3",
   "language": "python",
   "name": "python3"
  },
  "language_info": {
   "codemirror_mode": {
    "name": "ipython",
    "version": 3
   },
   "file_extension": ".py",
   "mimetype": "text/x-python",
   "name": "python",
   "nbconvert_exporter": "python",
   "pygments_lexer": "ipython3",
   "version": "3.5.5"
  }
 },
 "nbformat": 4,
 "nbformat_minor": 2
}
