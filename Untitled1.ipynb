{
 "cells": [
  {
   "cell_type": "code",
   "execution_count": 3,
   "metadata": {},
   "outputs": [
    {
     "name": "stdout",
     "output_type": "stream",
     "text": [
      "300 380\n",
      "370\n",
      " \n",
      "371\n"
     ]
    }
   ],
   "source": [
    "def isValid(num):\n",
    "    num_str = str(num)\n",
    "    sum = 0\n",
    "    for c in num_str:\n",
    "        sum += pow(int(c), 3)\n",
    "    return sum == num\n",
    "\n",
    "start, end = map(int, input().split(' '))\n",
    "\n",
    "ret = []\n",
    "for i in range(start, end+1):\n",
    "    if isValid(i):\n",
    "        ret.append(i)\n",
    "if len(ret) == 0:\n",
    "    print(\"no\")\n",
    "else:\n",
    "    for item in ret:\n",
    "        print(item)\n",
    "        if item != ret[-1]:\n",
    "            print(' ')"
   ]
  },
  {
   "cell_type": "code",
   "execution_count": null,
   "metadata": {},
   "outputs": [],
   "source": []
  }
 ],
 "metadata": {
  "kernelspec": {
   "display_name": "Python 3",
   "language": "python",
   "name": "python3"
  },
  "language_info": {
   "codemirror_mode": {
    "name": "ipython",
    "version": 3
   },
   "file_extension": ".py",
   "mimetype": "text/x-python",
   "name": "python",
   "nbconvert_exporter": "python",
   "pygments_lexer": "ipython3",
   "version": "3.5.5"
  }
 },
 "nbformat": 4,
 "nbformat_minor": 2
}
