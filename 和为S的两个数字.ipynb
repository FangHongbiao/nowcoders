{
 "cells": [
  {
   "cell_type": "markdown",
   "metadata": {},
   "source": [
    "### 和为S的两个数字\n",
    "输入一个递增排序的数组和一个数字S，在数组中查找两个数，使得他们的和正好是S，如果有多对数字的和等于S，输出两个数的乘积最小的。"
   ]
  },
  {
   "cell_type": "code",
   "execution_count": 6,
   "metadata": {},
   "outputs": [],
   "source": [
    "# -*- coding:utf-8 -*-\n",
    "class Solution:\n",
    "    def FindNumbersWithSum(self, array, tsum):\n",
    "        # write code here\n",
    "        result = []\n",
    "        start = 0\n",
    "        end = len(array) - 1\n",
    "        while (start < end):\n",
    "            if array[start] + array[end] > tsum:\n",
    "                end-=1\n",
    "            elif array[start] + array[end] < tsum:\n",
    "                start+=1\n",
    "            else:\n",
    "                result.append([array[start], array[end]])\n",
    "                start +=1\n",
    "                end-=1\n",
    "        if len(result) == 0:\n",
    "            return result\n",
    "        tmp = [(item[0]*item[1], item[0], item[1]) for item in result]\n",
    "        tmp = sorted(tmp)\n",
    "        return tmp[0][1], tmp[0][2]"
   ]
  },
  {
   "cell_type": "code",
   "execution_count": 7,
   "metadata": {},
   "outputs": [
    {
     "data": {
      "text/plain": [
       "[]"
      ]
     },
     "execution_count": 7,
     "metadata": {},
     "output_type": "execute_result"
    }
   ],
   "source": [
    "s = Solution()\n",
    "s.FindNumbersWithSum([1,2,4,7,11,16],10)"
   ]
  },
  {
   "cell_type": "code",
   "execution_count": null,
   "metadata": {},
   "outputs": [],
   "source": []
  },
  {
   "cell_type": "code",
   "execution_count": null,
   "metadata": {},
   "outputs": [],
   "source": []
  }
 ],
 "metadata": {
  "kernelspec": {
   "display_name": "Python 3",
   "language": "python",
   "name": "python3"
  },
  "language_info": {
   "codemirror_mode": {
    "name": "ipython",
    "version": 3
   },
   "file_extension": ".py",
   "mimetype": "text/x-python",
   "name": "python",
   "nbconvert_exporter": "python",
   "pygments_lexer": "ipython3",
   "version": "3.5.5"
  }
 },
 "nbformat": 4,
 "nbformat_minor": 2
}
