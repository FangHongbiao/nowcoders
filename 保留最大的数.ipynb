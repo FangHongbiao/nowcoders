{
 "cells": [
  {
   "cell_type": "code",
   "execution_count": 52,
   "metadata": {},
   "outputs": [
    {
     "name": "stdout",
     "output_type": "stream",
     "text": [
      "325 1\n",
      "['3', '2', '5']\n",
      "['3', '', '5']\n",
      "35\n",
      "df\n"
     ]
    }
   ],
   "source": [
    "num, size = map(int, input().strip().split(' '))\n",
    "\n",
    "c_i = [(c,i)for (c,i) in zip(str(num), range(num))]\n",
    "c_i = sorted(c_i)\n",
    "num_str = str(num)\n",
    "num_array = [i for i in num_str]\n",
    "for i in range(size):\n",
    "    index = c_i[i][1]\n",
    "    num_array[index] = ''\n",
    "\n",
    "ret= ''.join(num_array)\n",
    "print(ret)\n"
   ]
  },
  {
   "cell_type": "code",
   "execution_count": 45,
   "metadata": {},
   "outputs": [
    {
     "data": {
      "text/plain": [
       "'35'"
      ]
     },
     "execution_count": 45,
     "metadata": {},
     "output_type": "execute_result"
    }
   ],
   "source": []
  },
  {
   "cell_type": "code",
   "execution_count": null,
   "metadata": {
    "collapsed": true
   },
   "outputs": [],
   "source": []
  }
 ],
 "metadata": {
  "kernelspec": {
   "display_name": "Python 3",
   "language": "python",
   "name": "python3"
  },
  "language_info": {
   "codemirror_mode": {
    "name": "ipython",
    "version": 3
   },
   "file_extension": ".py",
   "mimetype": "text/x-python",
   "name": "python",
   "nbconvert_exporter": "python",
   "pygments_lexer": "ipython3",
   "version": "3.5.5"
  }
 },
 "nbformat": 4,
 "nbformat_minor": 2
}
