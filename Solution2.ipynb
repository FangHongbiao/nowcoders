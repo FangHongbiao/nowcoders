{
 "cells": [
  {
   "cell_type": "markdown",
   "metadata": {},
   "source": [
    "### 数字在排序数组中出现的次数\n",
    "题目描述\n",
    "统计一个数字在排序数组中出现的次数。"
   ]
  },
  {
   "cell_type": "code",
   "execution_count": 9,
   "metadata": {},
   "outputs": [],
   "source": [
    "# -*- coding:utf-8 -*-\n",
    "class Solution:\n",
    "    def GetNumberOfK(self, data, k):\n",
    "        if len(data) == 0:\n",
    "            return 0\n",
    "        # write code here\n",
    "        size = len(data)\n",
    "        middle = size//2\n",
    "        if data[middle] == k:\n",
    "            return self.GetNumberOfK(data[:middle], k) + self.GetNumberOfK(data[middle+1 :], k) + 1\n",
    "        elif data[middle] > k:\n",
    "            return self.GetNumberOfK(data[:middle], k)\n",
    "        else:\n",
    "            return self.GetNumberOfK(data[middle+1 :], k)"
   ]
  },
  {
   "cell_type": "code",
   "execution_count": 10,
   "metadata": {},
   "outputs": [
    {
     "data": {
      "text/plain": [
       "3"
      ]
     },
     "execution_count": 10,
     "metadata": {},
     "output_type": "execute_result"
    }
   ],
   "source": [
    "s = Solution()\n",
    "s.GetNumberOfK([1,2,2,2,3,6,9], 2)"
   ]
  },
  {
   "cell_type": "code",
   "execution_count": null,
   "metadata": {},
   "outputs": [],
   "source": []
  }
 ],
 "metadata": {
  "kernelspec": {
   "display_name": "Python 3",
   "language": "python",
   "name": "python3"
  },
  "language_info": {
   "codemirror_mode": {
    "name": "ipython",
    "version": 3
   },
   "file_extension": ".py",
   "mimetype": "text/x-python",
   "name": "python",
   "nbconvert_exporter": "python",
   "pygments_lexer": "ipython3",
   "version": "3.5.5"
  }
 },
 "nbformat": 4,
 "nbformat_minor": 2
}
