{
 "cells": [
  {
   "cell_type": "code",
   "execution_count": 7,
   "metadata": {},
   "outputs": [
    {
     "name": "stdout",
     "output_type": "stream",
     "text": [
      "4 1 1 1 3\n",
      "[1, 1, 1, 3]\n",
      "[2, 1, 3]\n",
      "[3, 3]\n",
      "[6]\n",
      "3\n"
     ]
    }
   ],
   "source": [
    "inputs = list(map(int, input().strip().split(' ')[1:]))\n",
    "\n",
    "def getNum(arr):\n",
    "    left = arr[0]\n",
    "    right = arr[-1]\n",
    "    count = 0\n",
    "    while len(arr) > 1:\n",
    "        \n",
    "        if left==right:\n",
    "            \n",
    "            if len(arr) > 2:\n",
    "                arr = arr[1:-2]\n",
    "            else:\n",
    "                return\n",
    "        else:\n",
    "            \n",
    "            count+=1\n",
    "            if left<right:\n",
    "                arr[1] = arr[1] + arr[0]\n",
    "                arr = arr[1:]\n",
    "            else:\n",
    "                arr[-2] = arr[-1] + arr[-2]\n",
    "                arr = arr[:-2]\n",
    "    return count\n",
    "print(getNum(inputs))\n",
    "\n",
    "   "
   ]
  },
  {
   "cell_type": "code",
   "execution_count": null,
   "metadata": {},
   "outputs": [],
   "source": [
    "\n"
   ]
  }
 ],
 "metadata": {
  "kernelspec": {
   "display_name": "Python 3",
   "language": "python",
   "name": "python3"
  },
  "language_info": {
   "codemirror_mode": {
    "name": "ipython",
    "version": 3
   },
   "file_extension": ".py",
   "mimetype": "text/x-python",
   "name": "python",
   "nbconvert_exporter": "python",
   "pygments_lexer": "ipython3",
   "version": "3.5.5"
  }
 },
 "nbformat": 4,
 "nbformat_minor": 2
}
